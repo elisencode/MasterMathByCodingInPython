{
 "cells": [
  {
   "cell_type": "code",
   "execution_count": 1,
   "id": "90b7a686",
   "metadata": {},
   "outputs": [],
   "source": [
    "from IPython.display import display, Math"
   ]
  },
  {
   "cell_type": "code",
   "execution_count": 2,
   "id": "030ff416",
   "metadata": {},
   "outputs": [
    {
     "data": {
      "text/plain": [
       "'4 + 3 = 7'"
      ]
     },
     "metadata": {},
     "output_type": "display_data"
    }
   ],
   "source": [
    "display( '4 + 3 = 7' )"
   ]
  },
  {
   "cell_type": "code",
   "execution_count": 3,
   "id": "4525d1e5",
   "metadata": {},
   "outputs": [
    {
     "data": {
      "text/plain": [
       "'4 + 3 = 7'"
      ]
     },
     "metadata": {},
     "output_type": "display_data"
    }
   ],
   "source": [
    "display( '4 + 3 = ' + str(4+3) )"
   ]
  },
  {
   "cell_type": "markdown",
   "id": "e7946fca",
   "metadata": {},
   "source": [
    "**Overloading** in code means that a particular operation or character is used in multiple ways depending on the context."
   ]
  },
  {
   "cell_type": "code",
   "execution_count": 4,
   "id": "738f72ee",
   "metadata": {},
   "outputs": [
    {
     "data": {
      "text/latex": [
       "$\\displaystyle 4+3=7$"
      ],
      "text/plain": [
       "<IPython.core.display.Math object>"
      ]
     },
     "metadata": {},
     "output_type": "display_data"
    }
   ],
   "source": [
    "display(Math('4+3=7'))"
   ]
  },
  {
   "cell_type": "code",
   "execution_count": 9,
   "id": "24a38c49",
   "metadata": {},
   "outputs": [
    {
     "data": {
      "text/latex": [
       "$\\displaystyle 4+5=9$"
      ],
      "text/plain": [
       "<IPython.core.display.Math object>"
      ]
     },
     "metadata": {},
     "output_type": "display_data"
    }
   ],
   "source": [
    "x = 4\n",
    "y = 5\n",
    "\n",
    "display(Math( str(x) + '+' + str(y) + '=' + str(x+y) ))"
   ]
  },
  {
   "cell_type": "code",
   "execution_count": 11,
   "id": "a7257d9a",
   "metadata": {},
   "outputs": [
    {
     "data": {
      "text/latex": [
       "$\\displaystyle 4+5 = 9$"
      ],
      "text/plain": [
       "<IPython.core.display.Math object>"
      ]
     },
     "metadata": {},
     "output_type": "display_data"
    }
   ],
   "source": [
    "display(Math( '%g+%g = %g' %(x,y,x+y) ))"
   ]
  },
  {
   "cell_type": "code",
   "execution_count": 12,
   "id": "f406a1e6",
   "metadata": {},
   "outputs": [
    {
     "data": {
      "text/latex": [
       "$\\displaystyle 4/5 = .8$"
      ],
      "text/plain": [
       "<IPython.core.display.Math object>"
      ]
     },
     "metadata": {},
     "output_type": "display_data"
    }
   ],
   "source": [
    "display(Math('4/5 = .8'))"
   ]
  },
  {
   "cell_type": "markdown",
   "id": "a19b839a",
   "metadata": {},
   "source": [
    "## LaTex Coding"
   ]
  },
  {
   "cell_type": "code",
   "execution_count": 14,
   "id": "e330f5e4",
   "metadata": {},
   "outputs": [
    {
     "data": {
      "text/latex": [
       "$\\displaystyle \\frac{4}{5} = .8$"
      ],
      "text/plain": [
       "<IPython.core.display.Math object>"
      ]
     },
     "metadata": {},
     "output_type": "display_data"
    }
   ],
   "source": [
    "# LaTex coding\n",
    "display(Math( '\\\\frac{4}{5} = .8' ))"
   ]
  },
  {
   "cell_type": "code",
   "execution_count": 15,
   "id": "46b58ac7",
   "metadata": {},
   "outputs": [
    {
     "data": {
      "text/latex": [
       "$\\displaystyle 3.4 \\times 17 = 57.8$"
      ],
      "text/plain": [
       "<IPython.core.display.Math object>"
      ]
     },
     "metadata": {},
     "output_type": "display_data"
    }
   ],
   "source": [
    "x = 3.4\n",
    "y = 17\n",
    "\n",
    "display(Math('%g \\\\times %g = %g' %(x,y,x*y)))"
   ]
  },
  {
   "cell_type": "markdown",
   "id": "968e6bf7",
   "metadata": {},
   "source": [
    "## Challenge me"
   ]
  },
  {
   "cell_type": "code",
   "execution_count": 32,
   "id": "cbb011a1",
   "metadata": {},
   "outputs": [],
   "source": [
    "x = 7\n",
    "y = -2\n",
    "z = 5"
   ]
  },
  {
   "cell_type": "code",
   "execution_count": 33,
   "id": "3979eb42",
   "metadata": {},
   "outputs": [
    {
     "data": {
      "text/latex": [
       "$\\displaystyle 3\\times 7$"
      ],
      "text/plain": [
       "<IPython.core.display.Math object>"
      ]
     },
     "metadata": {},
     "output_type": "display_data"
    }
   ],
   "source": [
    "display(Math( str(3) + '\\\\times %g' %x ))"
   ]
  },
  {
   "cell_type": "code",
   "execution_count": 63,
   "id": "f2e32ca6",
   "metadata": {},
   "outputs": [
    {
     "data": {
      "text/latex": [
       "$\\displaystyle 3 \\times 7 (4 -2) = 42$"
      ],
      "text/plain": [
       "<IPython.core.display.Math object>"
      ]
     },
     "metadata": {},
     "output_type": "display_data"
    }
   ],
   "source": [
    "display(Math( '3 \\\\times %g (4 %g) = %g'  %(x,y,3*x*(4+y)) ))"
   ]
  },
  {
   "cell_type": "code",
   "execution_count": 54,
   "id": "2e288773",
   "metadata": {},
   "outputs": [
    {
     "data": {
      "text/latex": [
       "$\\displaystyle --2$"
      ],
      "text/plain": [
       "<IPython.core.display.Math object>"
      ]
     },
     "metadata": {},
     "output_type": "display_data"
    }
   ],
   "source": [
    "display(Math( '-%g' %(y) ))"
   ]
  },
  {
   "cell_type": "code",
   "execution_count": 74,
   "id": "98a4460a",
   "metadata": {},
   "outputs": [
    {
     "data": {
      "text/latex": [
       "$\\displaystyle --2 - \\frac{7 + 3}{5} = 0$"
      ],
      "text/plain": [
       "<IPython.core.display.Math object>"
      ]
     },
     "metadata": {},
     "output_type": "display_data"
    }
   ],
   "source": [
    "display(Math( '-%g - \\\\frac{%g + 3}{%g} = %g' %(y,x,z,-y-(x+3)/z) ))"
   ]
  },
  {
   "cell_type": "markdown",
   "id": "d734f38f",
   "metadata": {},
   "source": [
    "## Solution"
   ]
  },
  {
   "cell_type": "code",
   "execution_count": 62,
   "id": "6835818f",
   "metadata": {},
   "outputs": [
    {
     "data": {
      "text/latex": [
       "$\\displaystyle 3x(4+y)=42$"
      ],
      "text/plain": [
       "<IPython.core.display.Math object>"
      ]
     },
     "metadata": {},
     "output_type": "display_data"
    },
    {
     "data": {
      "text/latex": [
       "$\\displaystyle 3\\times7(4-2)=42$"
      ],
      "text/plain": [
       "<IPython.core.display.Math object>"
      ]
     },
     "metadata": {},
     "output_type": "display_data"
    }
   ],
   "source": [
    "x = 7\n",
    "y = -2\n",
    "z = 5\n",
    "\n",
    "ans = 3*x*(4+y)\n",
    "display(Math('3x(4+y)=%g' %ans))\n",
    "display(Math('3\\\\times%g(4%g)=%g' %(x,y,ans)))"
   ]
  },
  {
   "cell_type": "code",
   "execution_count": 67,
   "id": "f44f041c",
   "metadata": {},
   "outputs": [
    {
     "data": {
      "text/plain": [
       "0.0"
      ]
     },
     "execution_count": 67,
     "metadata": {},
     "output_type": "execute_result"
    }
   ],
   "source": [
    "ans = -y - (x+3)/z\n",
    "ans"
   ]
  },
  {
   "cell_type": "code",
   "execution_count": 68,
   "id": "c9b14d57",
   "metadata": {},
   "outputs": [
    {
     "data": {
      "text/latex": [
       "$\\displaystyle -y - (x+3)/z$"
      ],
      "text/plain": [
       "<IPython.core.display.Math object>"
      ]
     },
     "metadata": {},
     "output_type": "display_data"
    }
   ],
   "source": [
    "display(Math('-y - (x+3)/z'))"
   ]
  },
  {
   "cell_type": "code",
   "execution_count": 70,
   "id": "6e0d35b1",
   "metadata": {},
   "outputs": [
    {
     "data": {
      "text/latex": [
       "$\\displaystyle -y - \\frac{(x+3)}{z} = 0$"
      ],
      "text/plain": [
       "<IPython.core.display.Math object>"
      ]
     },
     "metadata": {},
     "output_type": "display_data"
    }
   ],
   "source": [
    "display(Math('-y - \\\\frac{(x+3)}{z} = %g' %ans))"
   ]
  },
  {
   "cell_type": "code",
   "execution_count": 72,
   "id": "582e3d1d",
   "metadata": {},
   "outputs": [
    {
     "data": {
      "text/latex": [
       "$\\displaystyle --2 - \\frac{(7+3)}{5} = 0$"
      ],
      "text/plain": [
       "<IPython.core.display.Math object>"
      ]
     },
     "metadata": {},
     "output_type": "display_data"
    }
   ],
   "source": [
    "display(Math('-%g - \\\\frac{(%g+3)}{%g} = %g' %(y,x,z,ans)))"
   ]
  },
  {
   "cell_type": "code",
   "execution_count": null,
   "id": "6c9b9cc4",
   "metadata": {},
   "outputs": [],
   "source": []
  }
 ],
 "metadata": {
  "kernelspec": {
   "display_name": "py3",
   "language": "python",
   "name": "py3"
  },
  "language_info": {
   "codemirror_mode": {
    "name": "ipython",
    "version": 3
   },
   "file_extension": ".py",
   "mimetype": "text/x-python",
   "name": "python",
   "nbconvert_exporter": "python",
   "pygments_lexer": "ipython3",
   "version": "3.11.3"
  }
 },
 "nbformat": 4,
 "nbformat_minor": 5
}
