{
 "cells": [
  {
   "cell_type": "code",
   "execution_count": 1,
   "id": "c7349c37-ef47-42dd-93a8-df296b1af089",
   "metadata": {},
   "outputs": [],
   "source": [
    "def myfunction():\n",
    "    print('Hello world.')"
   ]
  },
  {
   "cell_type": "code",
   "execution_count": 2,
   "id": "819ff9ad-175c-4f2e-8fb0-d0b7d67da721",
   "metadata": {},
   "outputs": [
    {
     "name": "stdout",
     "output_type": "stream",
     "text": [
      "Hello world.\n"
     ]
    }
   ],
   "source": [
    "myfunction()"
   ]
  },
  {
   "cell_type": "code",
   "execution_count": 3,
   "id": "2a124f29-f8f6-4005-a33b-fa5885a2b5e4",
   "metadata": {},
   "outputs": [],
   "source": [
    "def myfunction(name):\n",
    "    print('Hello %s.' %name)"
   ]
  },
  {
   "cell_type": "code",
   "execution_count": 4,
   "id": "9fc1aa15-63e9-49cf-b296-d655e1e9d038",
   "metadata": {},
   "outputs": [
    {
     "name": "stdout",
     "output_type": "stream",
     "text": [
      "Hello Mike.\n"
     ]
    }
   ],
   "source": [
    "myfunction('Mike')"
   ]
  },
  {
   "cell_type": "code",
   "execution_count": 5,
   "id": "91af44a8-5fab-45f2-b9dc-9fbe6d4368a7",
   "metadata": {},
   "outputs": [],
   "source": [
    "def icandoit(name):\n",
    "    print('Détermination et Persévérance : croire en toi %s.' %name)"
   ]
  },
  {
   "cell_type": "code",
   "execution_count": 6,
   "id": "6fb39f26-135c-4d1f-804b-f89d37bd9345",
   "metadata": {},
   "outputs": [
    {
     "name": "stdout",
     "output_type": "stream",
     "text": [
      "Détermination et Persévérance : croire en toi Amen.\n"
     ]
    }
   ],
   "source": [
    "icandoit('Amen')"
   ]
  },
  {
   "cell_type": "markdown",
   "id": "d565b7ed-a1a3-4ba2-b83a-d509c7d9d768",
   "metadata": {},
   "source": [
    "« La persévérance et la détermination sont les clés de la réussite. Apprenez à tomber, à vous relever, à capitaliser sur les leçons tirées de vos erreurs et recommencez quoi qu'il vous en coûte. Donnez-vous les moyens de soutenir votre persévérance et votre détermination pour atteindre vos objectifs de vie. »\n",
    "\n",
    "« Le phénix, cet oiseau mythique, a le pouvoir de renaître de ses cendres [...] Cette légende symbolise la résurrection et l'idée d'apprendre de ses échecs pour ne pas reproduire les mêmes erreurs. »"
   ]
  },
  {
   "cell_type": "code",
   "execution_count": 7,
   "id": "bc803d48-f5a8-4aed-852e-2974ae94074a",
   "metadata": {},
   "outputs": [],
   "source": [
    "def computeremainder(x,y):\n",
    "    divis = int( x/y )\n",
    "    remainder = x%y\n",
    "\n",
    "    # print('y goes into x, n times with a remainder of m')\n",
    "    print('%g goes into %g, %g times with a remainder of %g' %(y,x,divis,remainder))"
   ]
  },
  {
   "cell_type": "code",
   "execution_count": 8,
   "id": "05d7eebd-7d85-4311-a808-a8e5cbdacae5",
   "metadata": {},
   "outputs": [
    {
     "name": "stdout",
     "output_type": "stream",
     "text": [
      "3 goes into 10, 3 times with a remainder of 1\n"
     ]
    }
   ],
   "source": [
    "computeremainder(10,3)"
   ]
  },
  {
   "cell_type": "code",
   "execution_count": 9,
   "id": "f815a8b4-ae6c-4e59-a82c-2114533d701c",
   "metadata": {},
   "outputs": [
    {
     "name": "stdin",
     "output_type": "stream",
     "text": [
      "input a number  9\n"
     ]
    }
   ],
   "source": [
    "a = input('input a number ')"
   ]
  },
  {
   "cell_type": "code",
   "execution_count": 10,
   "id": "38b3e5eb-e28d-4d48-ba24-a5dfb3ba7c13",
   "metadata": {},
   "outputs": [
    {
     "data": {
      "text/plain": [
       "str"
      ]
     },
     "execution_count": 10,
     "metadata": {},
     "output_type": "execute_result"
    }
   ],
   "source": [
    "type(a)"
   ]
  },
  {
   "cell_type": "code",
   "execution_count": 11,
   "id": "ac3e29f2-b717-4919-a3b8-ec9dfba78fb7",
   "metadata": {},
   "outputs": [
    {
     "name": "stdin",
     "output_type": "stream",
     "text": [
      "input a number  25\n"
     ]
    }
   ],
   "source": [
    "a = int(input('input a number '))"
   ]
  },
  {
   "cell_type": "code",
   "execution_count": 12,
   "id": "338d33a2-1169-4864-b867-c16775e10ef0",
   "metadata": {},
   "outputs": [
    {
     "data": {
      "text/plain": [
       "int"
      ]
     },
     "execution_count": 12,
     "metadata": {},
     "output_type": "execute_result"
    }
   ],
   "source": [
    "type(a)"
   ]
  },
  {
   "cell_type": "code",
   "execution_count": 13,
   "id": "578efb21-aebc-409f-a252-d34519bed680",
   "metadata": {},
   "outputs": [
    {
     "data": {
      "text/plain": [
       "28.2"
      ]
     },
     "execution_count": 13,
     "metadata": {},
     "output_type": "execute_result"
    }
   ],
   "source": [
    "a+3.2"
   ]
  },
  {
   "cell_type": "code",
   "execution_count": 14,
   "id": "6cbbc264-c4f2-4de0-868a-4b7540e513e3",
   "metadata": {},
   "outputs": [],
   "source": [
    "def divisionWithInput():\n",
    "\n",
    "    x = int( input('Input the numerator:') )\n",
    "    y = int( input('Input the denominator:') )\n",
    "\n",
    "    divis = int( x/y )\n",
    "    remainder = x%y\n",
    "\n",
    "    print('%g goes into %g, %g times with a remaider of %g' %(y,x,divis,remainder))"
   ]
  },
  {
   "cell_type": "code",
   "execution_count": 15,
   "id": "fb4310a6-7ed3-429f-a668-05b226083821",
   "metadata": {},
   "outputs": [
    {
     "name": "stdin",
     "output_type": "stream",
     "text": [
      "Input the numerator: 88\n",
      "Input the denominator: 2\n"
     ]
    },
    {
     "name": "stdout",
     "output_type": "stream",
     "text": [
      "2 goes into 88, 44 times with a remaider of 0\n"
     ]
    }
   ],
   "source": [
    "divisionWithInput()"
   ]
  },
  {
   "cell_type": "code",
   "execution_count": null,
   "id": "05ba23ab-6dfc-4536-b379-744cb5a1e8ce",
   "metadata": {},
   "outputs": [],
   "source": []
  },
  {
   "cell_type": "code",
   "execution_count": null,
   "id": "102c7f67-53b8-43f7-b00f-7fe92db3c98e",
   "metadata": {},
   "outputs": [],
   "source": []
  },
  {
   "cell_type": "markdown",
   "id": "b60699d6-9d51-4b32-ab81-cc18ed29cbe3",
   "metadata": {},
   "source": [
    "## 20. Create interactive math functions, part 2"
   ]
  },
  {
   "cell_type": "code",
   "execution_count": 16,
   "id": "b4909719-b539-4b7b-816f-cfbdc98ba23f",
   "metadata": {},
   "outputs": [
    {
     "name": "stdin",
     "output_type": "stream",
     "text": [
      "Input X:  3\n",
      "Input y:  9\n"
     ]
    },
    {
     "name": "stdout",
     "output_type": "stream",
     "text": [
      "Press \"1\" to compute 3^9 or \"2\" to compute 3/9\n"
     ]
    },
    {
     "name": "stdin",
     "output_type": "stream",
     "text": [
      "Press:  1\n"
     ]
    },
    {
     "name": "stdout",
     "output_type": "stream",
     "text": [
      "19683\n"
     ]
    }
   ],
   "source": [
    "# Me\n",
    "\n",
    "x = int(input(\"Input X: \"))\n",
    "y = int(input(\"Input y: \"))\n",
    "\n",
    "def compute_power(x, y):\n",
    "    power = x**y\n",
    "    print(power)\n",
    "\n",
    "def compute_division(x, y):\n",
    "    division = x/y\n",
    "    print(division)\n",
    "\n",
    "print('Press \"1\" to compute %g^%g or \"2\" to compute %g/%g' %(x, y, x, y))\n",
    "\n",
    "press_number = int(input(\"Press: \"))\n",
    "\n",
    "if press_number == 1:\n",
    "    compute_power(x, y)\n",
    "elif press_number == 2:\n",
    "    compute_division(x, y)\n",
    "else:\n",
    "    print(\"Invalide selection!\")"
   ]
  },
  {
   "cell_type": "code",
   "execution_count": null,
   "id": "63bd4cb3-785f-4598-8af3-7010c44fe3c2",
   "metadata": {},
   "outputs": [],
   "source": []
  },
  {
   "cell_type": "code",
   "execution_count": 17,
   "id": "2a3b1e29-7bdb-4705-a38f-e0d9886e54b0",
   "metadata": {},
   "outputs": [],
   "source": [
    "from IPython.display import display, Math\n",
    "\n",
    "# Solution\n",
    "\n",
    "# create the functions\n",
    "\n",
    "def powers(x,y):\n",
    "    display(Math('%g^{%g} = %g' %(x,y,x**y)))\n",
    "\n",
    "def division(x,y):\n",
    "    display(Math('\\\\frac{%g}{%g} = %g' %(x,y,x/y)))\n",
    "\n",
    "def mainfunction():\n",
    "    # get input from user\n",
    "    x = float( input('input X:'))\n",
    "    y = float( input('input Y:'))\n",
    "\n",
    "    display(Math('\\\\text{Pess \"1\" to compute }%g^{%g}\\\\text{ or press \"2\" to compute }\\\\frac{%g}{%g}' %(x,y,x,y)))\n",
    "    switch = input(' ')\n",
    "\n",
    "    if switch == '1':\n",
    "        powers(x,y)\n",
    "    elif switch=='2':\n",
    "        division(x,y)\n",
    "    else:\n",
    "        print('Invalid selection!')\n"
   ]
  },
  {
   "cell_type": "code",
   "execution_count": 18,
   "id": "6aa92996-e6d2-4331-8083-02cc6e318391",
   "metadata": {},
   "outputs": [
    {
     "name": "stdin",
     "output_type": "stream",
     "text": [
      "input X: 2\n",
      "input Y: 6\n"
     ]
    },
    {
     "data": {
      "text/latex": [
       "$\\displaystyle \\text{Pess \"1\" to compute }2^{6}\\text{ or press \"2\" to compute }\\frac{2}{6}$"
      ],
      "text/plain": [
       "<IPython.core.display.Math object>"
      ]
     },
     "metadata": {},
     "output_type": "display_data"
    },
    {
     "name": "stdin",
     "output_type": "stream",
     "text": [
      "  2\n"
     ]
    },
    {
     "data": {
      "text/latex": [
       "$\\displaystyle \\frac{2}{6} = 0.333333$"
      ],
      "text/plain": [
       "<IPython.core.display.Math object>"
      ]
     },
     "metadata": {},
     "output_type": "display_data"
    }
   ],
   "source": [
    "mainfunction()"
   ]
  },
  {
   "cell_type": "code",
   "execution_count": null,
   "id": "c4e933d3-902b-4ab9-882e-b4452ba1627e",
   "metadata": {},
   "outputs": [],
   "source": []
  },
  {
   "cell_type": "markdown",
   "id": "0e0820aa-6e79-4dba-98d5-6dbad4d0241d",
   "metadata": {},
   "source": [
    "## 21. Create interactive math functions, part 3"
   ]
  },
  {
   "cell_type": "raw",
   "id": "8cc3f852-e434-4a69-8665-a996b8068649",
   "metadata": {},
   "source": [
    "function guessTheNumber()\n",
    "Guess a number between 1 and 100    42\n",
    "Guess higher!\n",
    "Guess again 60\n",
    "Guess lower!\n",
    "Got it! The right number was 78 and your final guess was 78\n",
    "\n",
    "\n",
    "Hints:\n",
    "from numpy import random\n",
    "random.randint()\n",
    "\n",
    "while\n",
    "!="
   ]
  },
  {
   "cell_type": "code",
   "execution_count": null,
   "id": "19843baf-7e1c-4371-81c0-b83ff3334a85",
   "metadata": {},
   "outputs": [],
   "source": []
  },
  {
   "cell_type": "code",
   "execution_count": 26,
   "id": "e7e10a53-a5f5-4d1d-8139-41a450b580be",
   "metadata": {},
   "outputs": [],
   "source": [
    "from numpy import random\n",
    "\n",
    "# Me\n",
    "\n",
    "def guessTheNumber():\n",
    "    lucky_num = random.randint(1,100)\n",
    "    print(lucky_num)\n",
    "\n",
    "    user_input = int(input(\"Guess a number between 1 and 100: \"))\n",
    "\n",
    "    while user_input != lucky_num:\n",
    "\n",
    "        if user_input < lucky_num:\n",
    "            print(\"Guess higher!\")\n",
    "        if user_input > lucky_num:\n",
    "            print(\"Guess lower!\")\n",
    "               \n",
    "        user_input = int(input(\"Guess again: \"))\n",
    "\n",
    "        if user_input == lucky_num:\n",
    "            print(\"Got it! The right number was %g and you final guess was %g\" %(lucky_num, user_input))\n",
    "            break"
   ]
  },
  {
   "cell_type": "code",
   "execution_count": 27,
   "id": "96cfccb3-60ce-4e71-b9d1-337b7b11572e",
   "metadata": {},
   "outputs": [
    {
     "name": "stdout",
     "output_type": "stream",
     "text": [
      "69\n"
     ]
    },
    {
     "name": "stdin",
     "output_type": "stream",
     "text": [
      "Guess a number between 1 and 100:  80\n"
     ]
    },
    {
     "name": "stdout",
     "output_type": "stream",
     "text": [
      "Guess lower!\n"
     ]
    },
    {
     "name": "stdin",
     "output_type": "stream",
     "text": [
      "Guess again:  40\n"
     ]
    },
    {
     "name": "stdout",
     "output_type": "stream",
     "text": [
      "Guess higher!\n"
     ]
    },
    {
     "name": "stdin",
     "output_type": "stream",
     "text": [
      "Guess again:  60\n"
     ]
    },
    {
     "name": "stdout",
     "output_type": "stream",
     "text": [
      "Guess higher!\n"
     ]
    },
    {
     "name": "stdin",
     "output_type": "stream",
     "text": [
      "Guess again:  70\n"
     ]
    },
    {
     "name": "stdout",
     "output_type": "stream",
     "text": [
      "Guess lower!\n"
     ]
    },
    {
     "name": "stdin",
     "output_type": "stream",
     "text": [
      "Guess again:  65\n"
     ]
    },
    {
     "name": "stdout",
     "output_type": "stream",
     "text": [
      "Guess higher!\n"
     ]
    },
    {
     "name": "stdin",
     "output_type": "stream",
     "text": [
      "Guess again:  66\n"
     ]
    },
    {
     "name": "stdout",
     "output_type": "stream",
     "text": [
      "Guess higher!\n"
     ]
    },
    {
     "name": "stdin",
     "output_type": "stream",
     "text": [
      "Guess again:  68\n"
     ]
    },
    {
     "name": "stdout",
     "output_type": "stream",
     "text": [
      "Guess higher!\n"
     ]
    },
    {
     "name": "stdin",
     "output_type": "stream",
     "text": [
      "Guess again:  69\n"
     ]
    },
    {
     "name": "stdout",
     "output_type": "stream",
     "text": [
      "Got it! The right number was 69 and you final guess was 69\n"
     ]
    }
   ],
   "source": [
    "guessTheNumber()"
   ]
  },
  {
   "cell_type": "code",
   "execution_count": null,
   "id": "58353dce-2ace-4f39-a42c-bf68c6880b84",
   "metadata": {},
   "outputs": [],
   "source": []
  },
  {
   "cell_type": "code",
   "execution_count": null,
   "id": "81d1e2f4-923d-4184-8911-8f36a7162d7a",
   "metadata": {},
   "outputs": [],
   "source": [
    "\n",
    "\n",
    "# Solution"
   ]
  },
  {
   "cell_type": "code",
   "execution_count": null,
   "id": "be7559ce-5d57-4aa2-aa1f-6c4700fb32d1",
   "metadata": {},
   "outputs": [],
   "source": []
  },
  {
   "cell_type": "code",
   "execution_count": null,
   "id": "d9b8ce94-c4d4-495f-ae31-7a6408280a76",
   "metadata": {},
   "outputs": [],
   "source": []
  },
  {
   "cell_type": "code",
   "execution_count": null,
   "id": "5f8aceea-1dec-46dd-b998-0dff37f7c17f",
   "metadata": {},
   "outputs": [],
   "source": []
  }
 ],
 "metadata": {
  "kernelspec": {
   "display_name": "AI",
   "language": "python",
   "name": "ai"
  },
  "language_info": {
   "codemirror_mode": {
    "name": "ipython",
    "version": 3
   },
   "file_extension": ".py",
   "mimetype": "text/x-python",
   "name": "python",
   "nbconvert_exporter": "python",
   "pygments_lexer": "ipython3",
   "version": "3.10.13"
  }
 },
 "nbformat": 4,
 "nbformat_minor": 5
}
