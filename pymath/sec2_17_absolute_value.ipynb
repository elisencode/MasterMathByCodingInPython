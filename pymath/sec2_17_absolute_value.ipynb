{
 "cells": [
  {
   "cell_type": "markdown",
   "id": "fbfcae13-2031-4b35-a72c-45258a61cf20",
   "metadata": {},
   "source": [
    "## Absolute value as a distance to zero\n",
    "\n",
    "### Notation:\n",
    "\n",
    "abs(x)\n",
    "\n",
    "|x|"
   ]
  },
  {
   "cell_type": "code",
   "execution_count": 1,
   "id": "ed826462-ad6a-4ae2-89bb-b3bac4b1f867",
   "metadata": {},
   "outputs": [
    {
     "data": {
      "text/plain": [
       "4"
      ]
     },
     "execution_count": 1,
     "metadata": {},
     "output_type": "execute_result"
    }
   ],
   "source": [
    "abs(4)"
   ]
  },
  {
   "cell_type": "code",
   "execution_count": 2,
   "id": "74f66ef0-2260-466e-9c56-addf179fac13",
   "metadata": {},
   "outputs": [
    {
     "data": {
      "text/plain": [
       "4"
      ]
     },
     "execution_count": 2,
     "metadata": {},
     "output_type": "execute_result"
    }
   ],
   "source": [
    "abs(-4)"
   ]
  },
  {
   "cell_type": "code",
   "execution_count": 4,
   "id": "f600c59a-5b67-41f5-befb-9ee8b2e94750",
   "metadata": {},
   "outputs": [
    {
     "data": {
      "text/latex": [
       "$\\displaystyle |-4.3| = 4.3$"
      ],
      "text/plain": [
       "<IPython.core.display.Math object>"
      ]
     },
     "metadata": {},
     "output_type": "display_data"
    }
   ],
   "source": [
    "from IPython.display import display,Math\n",
    "\n",
    "x = -4.3\n",
    "\n",
    "# display(Math'|x| = x')\n",
    "display(Math('|%g| = %g' %(x,abs(x))))"
   ]
  },
  {
   "cell_type": "markdown",
   "id": "0e5f0eca-b1ed-4c21-9fb4-bc9acd506de3",
   "metadata": {},
   "source": [
    "## Exercise\n",
    "\n",
    "Your mission:  \n",
    "Print the absolute value of each of a set of numbers only if each number is <-5 or >2\n",
    "\n",
    "Number set:  \n",
    "-4, 6, -1, 43, -18, 2, 0\n",
    "\n",
    "Output:\n",
    "-4 was not tested.  \n",
    "Absolute value of 6 is 6.\n"
   ]
  },
  {
   "cell_type": "code",
   "execution_count": 24,
   "id": "f2a7cd61-79d3-4272-9cfe-9c25e20bdd2c",
   "metadata": {},
   "outputs": [
    {
     "name": "stdout",
     "output_type": "stream",
     "text": [
      "i<-5 or i>2 is 6\n"
     ]
    },
    {
     "data": {
      "text/latex": [
       "$\\displaystyle |6| = 6$"
      ],
      "text/plain": [
       "<IPython.core.display.Math object>"
      ]
     },
     "metadata": {},
     "output_type": "display_data"
    },
    {
     "name": "stdout",
     "output_type": "stream",
     "text": [
      "i<-5 or i>2 is 43\n"
     ]
    },
    {
     "data": {
      "text/latex": [
       "$\\displaystyle |43| = 43$"
      ],
      "text/plain": [
       "<IPython.core.display.Math object>"
      ]
     },
     "metadata": {},
     "output_type": "display_data"
    },
    {
     "name": "stdout",
     "output_type": "stream",
     "text": [
      "i<-5 or i>2 is -18\n"
     ]
    },
    {
     "data": {
      "text/latex": [
       "$\\displaystyle |-18| = 18$"
      ],
      "text/plain": [
       "<IPython.core.display.Math object>"
      ]
     },
     "metadata": {},
     "output_type": "display_data"
    }
   ],
   "source": [
    "# Me\n",
    "\n",
    "number_set = [-4, 6, -1, 43, -18, 2, 0]\n",
    "\n",
    "for i in number_set:\n",
    "    \n",
    "    if i<-5 or i>2:\n",
    "        print(\"i<-5 or i>2 is\", i)\n",
    "        display(Math(\"|%g| = %g\" %(i,abs(i))))\n"
   ]
  },
  {
   "cell_type": "code",
   "execution_count": 28,
   "id": "cec33218-cac2-455a-9292-e89e043474d9",
   "metadata": {},
   "outputs": [
    {
     "name": "stdout",
     "output_type": "stream",
     "text": [
      "-4 was not tested.\n",
      "Absolute value of 6 is 6.\n",
      "-1 was not tested.\n",
      "Absolute value of 43 is 43.\n",
      "Absolute value of -18 is 18.\n",
      "2 was not tested.\n",
      "0 was not tested.\n"
     ]
    }
   ],
   "source": [
    "# Answer\n",
    "\n",
    "numbers = [-4, 6, -1, 43, -18, 2, 0]\n",
    "\n",
    "# for-loop over the numbers\n",
    "for numi in numbers:\n",
    "    if numi<-5 or numi>2:\n",
    "        print('Absolute value of %g is %g.' %(numi,abs(numi)))\n",
    "    else:\n",
    "        print(str(numi) + ' was not tested.')"
   ]
  },
  {
   "cell_type": "code",
   "execution_count": null,
   "id": "92201c6d-b13a-422a-9167-144a4e743e88",
   "metadata": {},
   "outputs": [],
   "source": []
  },
  {
   "cell_type": "code",
   "execution_count": null,
   "id": "6f7fc24a-793d-4630-9520-1d4ee19cf6fd",
   "metadata": {},
   "outputs": [],
   "source": []
  },
  {
   "cell_type": "code",
   "execution_count": null,
   "id": "3c019078-1d55-4d93-b67b-b340f5523f53",
   "metadata": {},
   "outputs": [],
   "source": []
  },
  {
   "cell_type": "code",
   "execution_count": null,
   "id": "7fe99698-683a-4268-9e3e-2e520547972f",
   "metadata": {},
   "outputs": [],
   "source": []
  },
  {
   "cell_type": "code",
   "execution_count": null,
   "id": "a564ea35-7311-4b15-8e17-445d511673fc",
   "metadata": {},
   "outputs": [],
   "source": []
  }
 ],
 "metadata": {
  "kernelspec": {
   "display_name": "AI",
   "language": "python",
   "name": "ai"
  },
  "language_info": {
   "codemirror_mode": {
    "name": "ipython",
    "version": 3
   },
   "file_extension": ".py",
   "mimetype": "text/x-python",
   "name": "python",
   "nbconvert_exporter": "python",
   "pygments_lexer": "ipython3",
   "version": "3.10.13"
  }
 },
 "nbformat": 4,
 "nbformat_minor": 5
}
