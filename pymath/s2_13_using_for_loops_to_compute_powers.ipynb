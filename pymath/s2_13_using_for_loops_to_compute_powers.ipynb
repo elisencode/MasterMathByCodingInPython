{
 "cells": [
  {
   "cell_type": "code",
   "execution_count": 2,
   "id": "b0589bd8",
   "metadata": {},
   "outputs": [
    {
     "name": "stdout",
     "output_type": "stream",
     "text": [
      "0\n",
      "1\n",
      "2\n",
      "3\n"
     ]
    }
   ],
   "source": [
    "for i in [0,1,2,3]:\n",
    "    print(i)"
   ]
  },
  {
   "cell_type": "code",
   "execution_count": 3,
   "id": "6bd76251",
   "metadata": {},
   "outputs": [
    {
     "name": "stdout",
     "output_type": "stream",
     "text": [
      "0\n",
      "2\n",
      "4\n",
      "6\n"
     ]
    }
   ],
   "source": [
    "for i in [0,1,2,3]:\n",
    "    print(i*2)"
   ]
  },
  {
   "cell_type": "code",
   "execution_count": 4,
   "id": "db673546",
   "metadata": {},
   "outputs": [
    {
     "data": {
      "text/plain": [
       "range(0, 3)"
      ]
     },
     "execution_count": 4,
     "metadata": {},
     "output_type": "execute_result"
    }
   ],
   "source": [
    "range(0,3)"
   ]
  },
  {
   "cell_type": "code",
   "execution_count": 5,
   "id": "33bf0f76",
   "metadata": {},
   "outputs": [
    {
     "data": {
      "text/plain": [
       "[0, 1, 2]"
      ]
     },
     "execution_count": 5,
     "metadata": {},
     "output_type": "execute_result"
    }
   ],
   "source": [
    "list( range(0,3) )"
   ]
  },
  {
   "cell_type": "code",
   "execution_count": 6,
   "id": "f500359d",
   "metadata": {},
   "outputs": [
    {
     "name": "stdout",
     "output_type": "stream",
     "text": [
      "This is the 0th iteration.\n",
      "This is the 1th iteration.\n",
      "This is the 2th iteration.\n"
     ]
    }
   ],
   "source": [
    "for qwerty in range(0,3):\n",
    "    print('This is the %gth iteration.' %qwerty)"
   ]
  },
  {
   "cell_type": "code",
   "execution_count": 7,
   "id": "7c0b62d6",
   "metadata": {},
   "outputs": [
    {
     "name": "stdout",
     "output_type": "stream",
     "text": [
      "0\n",
      "1\n",
      "4\n",
      "9\n",
      "16\n"
     ]
    }
   ],
   "source": [
    "for t in range(0,5):\n",
    "    num = t**2\n",
    "    print(num)"
   ]
  },
  {
   "cell_type": "markdown",
   "id": "ca10048f",
   "metadata": {},
   "source": [
    "## Exercise me"
   ]
  },
  {
   "cell_type": "code",
   "execution_count": 50,
   "id": "f49cb37a",
   "metadata": {},
   "outputs": [
    {
     "data": {
      "text/plain": [
       "1"
      ]
     },
     "execution_count": 50,
     "metadata": {},
     "output_type": "execute_result"
    }
   ],
   "source": [
    "2**0"
   ]
  },
  {
   "cell_type": "code",
   "execution_count": 41,
   "id": "7f3c1fb3",
   "metadata": {},
   "outputs": [
    {
     "name": "stdout",
     "output_type": "stream",
     "text": [
      "0 1\n",
      "1 2\n",
      "2 4\n",
      "3 8\n",
      "4 16\n",
      "5 32\n",
      "6 64\n",
      "7 128\n",
      "8 256\n",
      "9 512\n"
     ]
    }
   ],
   "source": [
    "for x in range(0,10):\n",
    "    for y in range(1,10):\n",
    "        y=2**x\n",
    "    print(x, y)"
   ]
  },
  {
   "cell_type": "code",
   "execution_count": 54,
   "id": "59f72b97",
   "metadata": {},
   "outputs": [
    {
     "name": "stdout",
     "output_type": "stream",
     "text": [
      "2 to the power of 0 is 1.\n",
      "2 to the power of 1 is 2.\n",
      "2 to the power of 2 is 4.\n",
      "2 to the power of 3 is 8.\n",
      "2 to the power of 4 is 16.\n",
      "2 to the power of 5 is 32.\n",
      "2 to the power of 6 is 64.\n",
      "2 to the power of 7 is 128.\n",
      "2 to the power of 8 is 256.\n",
      "2 to the power of 9 is 512.\n"
     ]
    }
   ],
   "source": [
    "num = 2\n",
    "for x in range(0,10):\n",
    "    for y in range(5,10):  # Bug\n",
    "        y=2**x\n",
    "    print('%g to the power of %g is %g.' %(num,x,y))\n"
   ]
  },
  {
   "cell_type": "markdown",
   "id": "ef8cb4c7",
   "metadata": {},
   "source": [
    "## Solution"
   ]
  },
  {
   "cell_type": "code",
   "execution_count": 51,
   "id": "d68ff4cb",
   "metadata": {},
   "outputs": [
    {
     "name": "stdout",
     "output_type": "stream",
     "text": [
      "2 to the power of 0 is 1\n",
      "2 to the power of 1 is 2\n",
      "2 to the power of 2 is 4\n",
      "2 to the power of 3 is 8\n",
      "2 to the power of 4 is 16\n",
      "2 to the power of 5 is 32\n",
      "2 to the power of 6 is 64\n",
      "2 to the power of 7 is 128\n",
      "2 to the power of 8 is 256\n",
      "2 to the power of 9 is 512\n"
     ]
    }
   ],
   "source": [
    "for i in range(0,10):\n",
    "    print('2 to the power of %g is %g' %(i,2**i))"
   ]
  },
  {
   "cell_type": "code",
   "execution_count": 52,
   "id": "35fbd215",
   "metadata": {},
   "outputs": [
    {
     "name": "stdout",
     "output_type": "stream",
     "text": [
      "2 to the power of 0 is 1\n",
      "2 to the power of 1 is 2\n",
      "2 to the power of 2 is 4\n",
      "2 to the power of 3 is 8\n",
      "2 to the power of 4 is 16\n",
      "2 to the power of 5 is 32\n",
      "2 to the power of 6 is 64\n",
      "2 to the power of 7 is 128\n",
      "2 to the power of 8 is 256\n",
      "2 to the power of 9 is 512\n"
     ]
    }
   ],
   "source": [
    "base = 2\n",
    "\n",
    "for i in range(0,10):\n",
    "    print('%g to the power of %g is %g' %(base,i,base**i))"
   ]
  },
  {
   "cell_type": "code",
   "execution_count": 55,
   "id": "d44089a3",
   "metadata": {},
   "outputs": [
    {
     "name": "stdout",
     "output_type": "stream",
     "text": [
      "32 to the power of 0 is 1\n",
      "32 to the power of 1 is 32\n",
      "32 to the power of 2 is 1024\n",
      "32 to the power of 3 is 32768\n",
      "32 to the power of 4 is 1.04858e+06\n",
      "32 to the power of 5 is 3.35544e+07\n",
      "32 to the power of 6 is 1.07374e+09\n",
      "32 to the power of 7 is 3.43597e+10\n",
      "32 to the power of 8 is 1.09951e+12\n",
      "32 to the power of 9 is 3.51844e+13\n"
     ]
    }
   ],
   "source": [
    "base = 32\n",
    "\n",
    "for i in range(0,10):\n",
    "    print('%g to the power of %g is %g' %(base,i,base**i))"
   ]
  },
  {
   "cell_type": "markdown",
   "id": "d04a0879",
   "metadata": {},
   "source": [
    "`e+13` scientifix notation"
   ]
  }
 ],
 "metadata": {
  "kernelspec": {
   "display_name": "py3",
   "language": "python",
   "name": "py3"
  },
  "language_info": {
   "codemirror_mode": {
    "name": "ipython",
    "version": 3
   },
   "file_extension": ".py",
   "mimetype": "text/x-python",
   "name": "python",
   "nbconvert_exporter": "python",
   "pygments_lexer": "ipython3",
   "version": "3.11.3"
  }
 },
 "nbformat": 4,
 "nbformat_minor": 5
}
