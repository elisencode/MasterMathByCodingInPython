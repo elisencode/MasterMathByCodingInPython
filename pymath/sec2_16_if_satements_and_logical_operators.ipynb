{
 "cells": [
  {
   "cell_type": "code",
   "execution_count": 1,
   "id": "d4b6f0ca-077b-4f3d-8ee4-f7943163dae7",
   "metadata": {},
   "outputs": [
    {
     "name": "stdout",
     "output_type": "stream",
     "text": [
      "true\n"
     ]
    }
   ],
   "source": [
    "if 4+2==6:\n",
    "    print('true')"
   ]
  },
  {
   "cell_type": "code",
   "execution_count": 2,
   "id": "fc66a086-c6b8-4a74-baa9-03c22711839a",
   "metadata": {},
   "outputs": [
    {
     "name": "stdout",
     "output_type": "stream",
     "text": [
      "6\n"
     ]
    }
   ],
   "source": [
    "if 4+2==5:\n",
    "    print('true')\n",
    "print(4+2)"
   ]
  },
  {
   "cell_type": "code",
   "execution_count": 3,
   "id": "31a333e9-35d3-405f-98a8-7eeae67c5833",
   "metadata": {},
   "outputs": [
    {
     "name": "stdout",
     "output_type": "stream",
     "text": [
      "6\n"
     ]
    }
   ],
   "source": [
    "if 4+2==5:\n",
    "    print('true')\n",
    "elif 4+2==6:\n",
    "    print(4+2)"
   ]
  },
  {
   "cell_type": "code",
   "execution_count": 4,
   "id": "b47db42f-e005-44f1-895b-840496f3001a",
   "metadata": {},
   "outputs": [
    {
     "name": "stdout",
     "output_type": "stream",
     "text": [
      "6\n"
     ]
    }
   ],
   "source": [
    "if 4+2==5:\n",
    "    print('true')\n",
    "else:\n",
    "    print(4+2)"
   ]
  },
  {
   "cell_type": "code",
   "execution_count": 7,
   "id": "0d01a0b9-09cd-4edc-9c6f-e38df43faf00",
   "metadata": {},
   "outputs": [
    {
     "name": "stdout",
     "output_type": "stream",
     "text": [
      "4 is equal to 4\n"
     ]
    }
   ],
   "source": [
    "# x1 = 5\n",
    "# x1 = 3\n",
    "x1 = 4\n",
    "x2 = 4\n",
    "\n",
    "if x1>x2:\n",
    "    print('%g is greater than %g' %(x1,x2))\n",
    "elif x1<x2:\n",
    "    print('%g is greater than %g' %(x2,x1))\n",
    "else:\n",
    "    print('%g is equal to %g' %(x2,x1))\n",
    "    "
   ]
  },
  {
   "cell_type": "raw",
   "id": "60866a8c-0dcc-4fec-b154-3bfc5259875d",
   "metadata": {},
   "source": [
    "## Exercise\n",
    "\n",
    "Loop over numbers 0-3 (variable i),\n",
    "    Loop over numbers 0-4 (variable j),\n",
    "\n",
    "        Print i^-j for numbers where i>0, j>0\n"
   ]
  },
  {
   "cell_type": "code",
   "execution_count": 40,
   "id": "c48e5ac2-c295-4467-9bd8-39bee2915491",
   "metadata": {},
   "outputs": [
    {
     "name": "stdout",
     "output_type": "stream",
     "text": [
      "1^(-1)=1\n",
      "1^(-2)=1\n",
      "1^(-3)=1\n",
      "1^(-4)=1\n",
      "1^(-5)=1\n",
      "\n",
      "2^(-1)=0.5\n",
      "2^(-2)=0.25\n",
      "2^(-3)=0.125\n",
      "2^(-4)=0.0625\n",
      "2^(-5)=0.03125\n",
      "\n",
      "3^(-1)=0.333333\n",
      "3^(-2)=0.111111\n",
      "3^(-3)=0.037037\n",
      "3^(-4)=0.0123457\n",
      "3^(-5)=0.00411523\n",
      "\n",
      "4^(-1)=0.25\n",
      "4^(-2)=0.0625\n",
      "4^(-3)=0.015625\n",
      "4^(-4)=0.00390625\n",
      "4^(-5)=0.000976562\n",
      "\n"
     ]
    }
   ],
   "source": [
    "# Me\n",
    "# Outer loop\n",
    "for i in range(0, 4):\n",
    "    # nested loop\n",
    "    # to iterate from 0 to 4\n",
    "    \n",
    "    i+=1\n",
    "       \n",
    "    for j in range(0, 5):\n",
    "        j += 1\n",
    "        z = 1 / i**j\n",
    "        if i>0 and j>0:\n",
    "            print(\"%g^(-%g)=%g\" %(i,j,z))\n",
    "    print()\n"
   ]
  },
  {
   "cell_type": "code",
   "execution_count": 43,
   "id": "2be7125d-1ec8-4b17-8237-69170756649a",
   "metadata": {},
   "outputs": [
    {
     "data": {
      "text/latex": [
       "$\\displaystyle 1^{-1} = 1$"
      ],
      "text/plain": [
       "<IPython.core.display.Math object>"
      ]
     },
     "metadata": {},
     "output_type": "display_data"
    },
    {
     "data": {
      "text/latex": [
       "$\\displaystyle 1^{-2} = 1$"
      ],
      "text/plain": [
       "<IPython.core.display.Math object>"
      ]
     },
     "metadata": {},
     "output_type": "display_data"
    },
    {
     "data": {
      "text/latex": [
       "$\\displaystyle 1^{-3} = 1$"
      ],
      "text/plain": [
       "<IPython.core.display.Math object>"
      ]
     },
     "metadata": {},
     "output_type": "display_data"
    },
    {
     "data": {
      "text/latex": [
       "$\\displaystyle 1^{-4} = 1$"
      ],
      "text/plain": [
       "<IPython.core.display.Math object>"
      ]
     },
     "metadata": {},
     "output_type": "display_data"
    },
    {
     "data": {
      "text/latex": [
       "$\\displaystyle 2^{-1} = 0.5$"
      ],
      "text/plain": [
       "<IPython.core.display.Math object>"
      ]
     },
     "metadata": {},
     "output_type": "display_data"
    },
    {
     "data": {
      "text/latex": [
       "$\\displaystyle 2^{-2} = 0.25$"
      ],
      "text/plain": [
       "<IPython.core.display.Math object>"
      ]
     },
     "metadata": {},
     "output_type": "display_data"
    },
    {
     "data": {
      "text/latex": [
       "$\\displaystyle 2^{-3} = 0.125$"
      ],
      "text/plain": [
       "<IPython.core.display.Math object>"
      ]
     },
     "metadata": {},
     "output_type": "display_data"
    },
    {
     "data": {
      "text/latex": [
       "$\\displaystyle 2^{-4} = 0.0625$"
      ],
      "text/plain": [
       "<IPython.core.display.Math object>"
      ]
     },
     "metadata": {},
     "output_type": "display_data"
    },
    {
     "data": {
      "text/latex": [
       "$\\displaystyle 3^{-1} = 0.333333$"
      ],
      "text/plain": [
       "<IPython.core.display.Math object>"
      ]
     },
     "metadata": {},
     "output_type": "display_data"
    },
    {
     "data": {
      "text/latex": [
       "$\\displaystyle 3^{-2} = 0.111111$"
      ],
      "text/plain": [
       "<IPython.core.display.Math object>"
      ]
     },
     "metadata": {},
     "output_type": "display_data"
    },
    {
     "data": {
      "text/latex": [
       "$\\displaystyle 3^{-3} = 0.037037$"
      ],
      "text/plain": [
       "<IPython.core.display.Math object>"
      ]
     },
     "metadata": {},
     "output_type": "display_data"
    },
    {
     "data": {
      "text/latex": [
       "$\\displaystyle 3^{-4} = 0.0123457$"
      ],
      "text/plain": [
       "<IPython.core.display.Math object>"
      ]
     },
     "metadata": {},
     "output_type": "display_data"
    }
   ],
   "source": [
    "# Answer\n",
    "\n",
    "from IPython.display import display,Math\n",
    "\n",
    "for i in range(0,4):\n",
    "    for j in range(0,5):\n",
    "        if i>0 and j>0:\n",
    "            display(Math('%g^{-%g} = %g' %(i,j,i**-j)))"
   ]
  },
  {
   "cell_type": "code",
   "execution_count": null,
   "id": "5163adcb-e3cb-4ae1-9b8a-564c18cd364e",
   "metadata": {},
   "outputs": [],
   "source": []
  },
  {
   "cell_type": "code",
   "execution_count": null,
   "id": "2f6f0c9f-d44e-4cbb-b69a-ed464d46d726",
   "metadata": {},
   "outputs": [],
   "source": []
  },
  {
   "cell_type": "code",
   "execution_count": null,
   "id": "61aeb562-e100-42f7-a43f-c943805e8f51",
   "metadata": {},
   "outputs": [],
   "source": []
  },
  {
   "cell_type": "code",
   "execution_count": null,
   "id": "e7b8802b-93d5-451b-8086-d5e94440b3b4",
   "metadata": {},
   "outputs": [],
   "source": []
  },
  {
   "cell_type": "code",
   "execution_count": null,
   "id": "ed4622b0-6e41-4fbc-90d6-1bf85c2efb06",
   "metadata": {},
   "outputs": [],
   "source": []
  },
  {
   "cell_type": "code",
   "execution_count": null,
   "id": "fe9a2386-1913-4947-982c-ab3466729857",
   "metadata": {},
   "outputs": [],
   "source": []
  },
  {
   "cell_type": "code",
   "execution_count": null,
   "id": "53227d05-fd94-4c29-8e34-0dcba33e00a3",
   "metadata": {},
   "outputs": [],
   "source": []
  },
  {
   "cell_type": "code",
   "execution_count": null,
   "id": "949646c6-a131-4ddf-8eeb-4b4a25b525d6",
   "metadata": {},
   "outputs": [],
   "source": []
  }
 ],
 "metadata": {
  "kernelspec": {
   "display_name": "AI",
   "language": "python",
   "name": "ai"
  },
  "language_info": {
   "codemirror_mode": {
    "name": "ipython",
    "version": 3
   },
   "file_extension": ".py",
   "mimetype": "text/x-python",
   "name": "python",
   "nbconvert_exporter": "python",
   "pygments_lexer": "ipython3",
   "version": "3.10.13"
  }
 },
 "nbformat": 4,
 "nbformat_minor": 5
}
