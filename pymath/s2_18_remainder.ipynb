{
 "cells": [
  {
   "cell_type": "code",
   "execution_count": 1,
   "id": "5bcf0e38-84dc-4669-ac29-b7dfbd42b719",
   "metadata": {},
   "outputs": [
    {
     "data": {
      "text/plain": [
       "3.3333333333333335"
      ]
     },
     "execution_count": 1,
     "metadata": {},
     "output_type": "execute_result"
    }
   ],
   "source": [
    "a = 10\n",
    "b = 3\n",
    "\n",
    "# division\n",
    "a/b"
   ]
  },
  {
   "cell_type": "code",
   "execution_count": 3,
   "id": "a35981b3-3f25-4958-a01e-6baf792b67e1",
   "metadata": {},
   "outputs": [
    {
     "data": {
      "text/plain": [
       "3"
      ]
     },
     "execution_count": 3,
     "metadata": {},
     "output_type": "execute_result"
    }
   ],
   "source": [
    "a = 10\n",
    "b = 3\n",
    "\n",
    "# integer division\n",
    "int(a/b)"
   ]
  },
  {
   "cell_type": "code",
   "execution_count": 4,
   "id": "71b7785b-5b5d-490b-91ca-1855b45df28b",
   "metadata": {},
   "outputs": [
    {
     "data": {
      "text/plain": [
       "1"
      ]
     },
     "execution_count": 4,
     "metadata": {},
     "output_type": "execute_result"
    }
   ],
   "source": [
    "a%b"
   ]
  },
  {
   "cell_type": "code",
   "execution_count": 8,
   "id": "07d8e31e-9c3b-48d1-a883-0a1951a68698",
   "metadata": {},
   "outputs": [
    {
     "name": "stdout",
     "output_type": "stream",
     "text": [
      "3 goes into 9, 3 times with a remainder of 0.\n"
     ]
    }
   ],
   "source": [
    "a = 9\n",
    "b = 3\n",
    "\n",
    "divis = int(a/b)\n",
    "remainder = a%b\n",
    "\n",
    "# print('3 goes into 10, 3 times with a remainder of 1.')\n",
    "print('%g goes into %g, %g times with a remainder of %g.' %(b,a,divis,remainder))"
   ]
  },
  {
   "cell_type": "markdown",
   "id": "7ac320e3-a780-4b77-8a41-a31cbe8e7bcd",
   "metadata": {},
   "source": [
    "## Exercise\n",
    "\n",
    "-5 is an odd  number  \n",
    "-4 is an even number  \n",
    "-3 is an odd  number  \n",
    "-2 is an even number  \n",
    "-1 is an odd  number  \n",
    " 0 is an even number  \n",
    " 1 is an odd  number  \n",
    " 2 is an even number  \n",
    " 3 is an odd  number  \n",
    " 4 is an even number  \n",
    " 5 is an odd  number  "
   ]
  },
  {
   "cell_type": "code",
   "execution_count": 27,
   "id": "fbe17186-f6d3-49a7-bf22-57979ceb4338",
   "metadata": {},
   "outputs": [
    {
     "name": "stdout",
     "output_type": "stream",
     "text": [
      "-5\t is an odd\t number\n",
      "-4\t is an even\t number\n",
      "-3\t is an odd\t number\n",
      "-2\t is an even\t number\n",
      "-1\t is an odd\t number\n",
      "0\t is an even\t number\n",
      "1\t is an odd\t number\n",
      "2\t is an even\t number\n",
      "3\t is an odd\t number\n",
      "4\t is an even\t number\n",
      "5\t is an odd\t number\n"
     ]
    }
   ],
   "source": [
    "# Me\n",
    "\n",
    "for i in range(-5,6):\n",
    "    #print(i)\n",
    "    x=i%2\n",
    "    # print(x)\n",
    "    if x==0:\n",
    "        print('%g\\t is an even\\t number' %(i))\n",
    "    else:\n",
    "        print('%g\\t is an odd\\t number' %(i))"
   ]
  },
  {
   "cell_type": "code",
   "execution_count": 33,
   "id": "54da8aba-d63d-485b-bb3d-8048c247583d",
   "metadata": {},
   "outputs": [
    {
     "name": "stdout",
     "output_type": "stream",
     "text": [
      "-5 is an odd  number\n",
      "-4 is an even number\n",
      "-3 is an odd  number\n",
      "-2 is an even number\n",
      "-1 is an odd  number\n",
      " 0 is an even number\n",
      " 1 is an odd  number\n",
      " 2 is an even number\n",
      " 3 is an odd  number\n",
      " 4 is an even number\n",
      " 5 is an odd  number\n"
     ]
    }
   ],
   "source": [
    "# Solution\n",
    "\n",
    "nums = range(-5,6)\n",
    "\n",
    "for i in nums:\n",
    "\n",
    "    firstchar = ' '\n",
    "    if i<0:\n",
    "        firstchar = ''\n",
    "    \n",
    "    # test and report\n",
    "    if i%2==0:\n",
    "        # %s is for printing out strings ; %g is for printing our numbers.\n",
    "        print('%s%g is an even number' %(firstchar,i))\n",
    "    else:\n",
    "        print('%s%g is an odd  number' %(firstchar,i))"
   ]
  },
  {
   "cell_type": "code",
   "execution_count": null,
   "id": "6020f656-092c-4d1c-9565-2ea7d6517274",
   "metadata": {},
   "outputs": [],
   "source": []
  },
  {
   "cell_type": "code",
   "execution_count": null,
   "id": "316141fd-8b7d-4c84-beb4-e4da4f722f34",
   "metadata": {},
   "outputs": [],
   "source": []
  },
  {
   "cell_type": "code",
   "execution_count": null,
   "id": "6d02abe7-b724-4fba-8920-0aa34db3c365",
   "metadata": {},
   "outputs": [],
   "source": []
  },
  {
   "cell_type": "code",
   "execution_count": null,
   "id": "88cf28e7-08ea-4d55-8ff9-87572b37231e",
   "metadata": {},
   "outputs": [],
   "source": []
  },
  {
   "cell_type": "code",
   "execution_count": null,
   "id": "2b8e8b23-3967-4b70-bc54-aed8a226dccc",
   "metadata": {},
   "outputs": [],
   "source": []
  },
  {
   "cell_type": "code",
   "execution_count": null,
   "id": "d7a61470-bef1-45db-81ef-6fbd4a0125bf",
   "metadata": {},
   "outputs": [],
   "source": []
  },
  {
   "cell_type": "code",
   "execution_count": null,
   "id": "7e39d7fc-c3a6-4116-b777-e332789892ee",
   "metadata": {},
   "outputs": [],
   "source": []
  },
  {
   "cell_type": "code",
   "execution_count": null,
   "id": "4b2c7c19-8fd4-44ac-836c-22068393bab1",
   "metadata": {},
   "outputs": [],
   "source": []
  },
  {
   "cell_type": "code",
   "execution_count": null,
   "id": "406376c0-77df-4b4c-bc10-a15aad62306d",
   "metadata": {},
   "outputs": [],
   "source": []
  },
  {
   "cell_type": "code",
   "execution_count": null,
   "id": "30a05907-1741-4c5e-8d0a-b0e1e4665633",
   "metadata": {},
   "outputs": [],
   "source": []
  },
  {
   "cell_type": "code",
   "execution_count": null,
   "id": "1dbbc6e9-ff6a-4d21-ae3b-eae5070f4178",
   "metadata": {},
   "outputs": [],
   "source": []
  },
  {
   "cell_type": "code",
   "execution_count": null,
   "id": "e345b77c-44dc-498a-bdb0-98c3816928b7",
   "metadata": {},
   "outputs": [],
   "source": []
  }
 ],
 "metadata": {
  "kernelspec": {
   "display_name": "AI",
   "language": "python",
   "name": "ai"
  },
  "language_info": {
   "codemirror_mode": {
    "name": "ipython",
    "version": 3
   },
   "file_extension": ".py",
   "mimetype": "text/x-python",
   "name": "python",
   "nbconvert_exporter": "python",
   "pygments_lexer": "ipython3",
   "version": "3.10.13"
  }
 },
 "nbformat": 4,
 "nbformat_minor": 5
}
